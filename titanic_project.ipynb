{
 "cells": [
  {
   "cell_type": "code",
   "execution_count": 1,
   "id": "c430afef-5e94-4117-91d9-5a370eb24102",
   "metadata": {},
   "outputs": [],
   "source": [
    "import pandas as pd\n",
    "import matplotlib.pyplot as plt\n",
    "import seaborn as sns\n",
    "import numpy as np"
   ]
  },
  {
   "cell_type": "code",
   "execution_count": 2,
   "id": "60896af2-11f8-409b-8693-d3e10daea945",
   "metadata": {},
   "outputs": [
    {
     "data": {
      "text/html": [
       "<div>\n",
       "<style scoped>\n",
       "    .dataframe tbody tr th:only-of-type {\n",
       "        vertical-align: middle;\n",
       "    }\n",
       "\n",
       "    .dataframe tbody tr th {\n",
       "        vertical-align: top;\n",
       "    }\n",
       "\n",
       "    .dataframe thead th {\n",
       "        text-align: right;\n",
       "    }\n",
       "</style>\n",
       "<table border=\"1\" class=\"dataframe\">\n",
       "  <thead>\n",
       "    <tr style=\"text-align: right;\">\n",
       "      <th></th>\n",
       "      <th>PassengerId</th>\n",
       "      <th>Survived</th>\n",
       "      <th>Pclass</th>\n",
       "      <th>Name</th>\n",
       "      <th>Sex</th>\n",
       "      <th>Age</th>\n",
       "      <th>SibSp</th>\n",
       "      <th>Parch</th>\n",
       "      <th>Ticket</th>\n",
       "      <th>Fare</th>\n",
       "      <th>...</th>\n",
       "      <th>Embarked</th>\n",
       "      <th>WikiId</th>\n",
       "      <th>Name_wiki</th>\n",
       "      <th>Age_wiki</th>\n",
       "      <th>Hometown</th>\n",
       "      <th>Boarded</th>\n",
       "      <th>Destination</th>\n",
       "      <th>Lifeboat</th>\n",
       "      <th>Body</th>\n",
       "      <th>Class</th>\n",
       "    </tr>\n",
       "  </thead>\n",
       "  <tbody>\n",
       "    <tr>\n",
       "      <th>0</th>\n",
       "      <td>1</td>\n",
       "      <td>0.0</td>\n",
       "      <td>3</td>\n",
       "      <td>Braund, Mr. Owen Harris</td>\n",
       "      <td>male</td>\n",
       "      <td>22.0</td>\n",
       "      <td>1</td>\n",
       "      <td>0</td>\n",
       "      <td>A/5 21171</td>\n",
       "      <td>7.2500</td>\n",
       "      <td>...</td>\n",
       "      <td>S</td>\n",
       "      <td>691.0</td>\n",
       "      <td>Braund, Mr. Owen Harris</td>\n",
       "      <td>22.0</td>\n",
       "      <td>Bridgerule, Devon, England</td>\n",
       "      <td>Southampton</td>\n",
       "      <td>Qu'Appelle Valley, Saskatchewan, Canada</td>\n",
       "      <td>NaN</td>\n",
       "      <td>NaN</td>\n",
       "      <td>3.0</td>\n",
       "    </tr>\n",
       "    <tr>\n",
       "      <th>1</th>\n",
       "      <td>2</td>\n",
       "      <td>1.0</td>\n",
       "      <td>1</td>\n",
       "      <td>Cumings, Mrs. John Bradley (Florence Briggs Th...</td>\n",
       "      <td>female</td>\n",
       "      <td>38.0</td>\n",
       "      <td>1</td>\n",
       "      <td>0</td>\n",
       "      <td>PC 17599</td>\n",
       "      <td>71.2833</td>\n",
       "      <td>...</td>\n",
       "      <td>C</td>\n",
       "      <td>90.0</td>\n",
       "      <td>Cumings, Mrs. Florence Briggs (née Thayer)</td>\n",
       "      <td>35.0</td>\n",
       "      <td>New York, New York, US</td>\n",
       "      <td>Cherbourg</td>\n",
       "      <td>New York, New York, US</td>\n",
       "      <td>4</td>\n",
       "      <td>NaN</td>\n",
       "      <td>1.0</td>\n",
       "    </tr>\n",
       "    <tr>\n",
       "      <th>2</th>\n",
       "      <td>3</td>\n",
       "      <td>1.0</td>\n",
       "      <td>3</td>\n",
       "      <td>Heikkinen, Miss. Laina</td>\n",
       "      <td>female</td>\n",
       "      <td>26.0</td>\n",
       "      <td>0</td>\n",
       "      <td>0</td>\n",
       "      <td>STON/O2. 3101282</td>\n",
       "      <td>7.9250</td>\n",
       "      <td>...</td>\n",
       "      <td>S</td>\n",
       "      <td>865.0</td>\n",
       "      <td>Heikkinen, Miss Laina</td>\n",
       "      <td>26.0</td>\n",
       "      <td>Jyväskylä, Finland</td>\n",
       "      <td>Southampton</td>\n",
       "      <td>New York City</td>\n",
       "      <td>14?</td>\n",
       "      <td>NaN</td>\n",
       "      <td>3.0</td>\n",
       "    </tr>\n",
       "    <tr>\n",
       "      <th>3</th>\n",
       "      <td>4</td>\n",
       "      <td>1.0</td>\n",
       "      <td>1</td>\n",
       "      <td>Futrelle, Mrs. Jacques Heath (Lily May Peel)</td>\n",
       "      <td>female</td>\n",
       "      <td>35.0</td>\n",
       "      <td>1</td>\n",
       "      <td>0</td>\n",
       "      <td>113803</td>\n",
       "      <td>53.1000</td>\n",
       "      <td>...</td>\n",
       "      <td>S</td>\n",
       "      <td>127.0</td>\n",
       "      <td>Futrelle, Mrs. Lily May (née Peel)</td>\n",
       "      <td>35.0</td>\n",
       "      <td>Scituate, Massachusetts, US</td>\n",
       "      <td>Southampton</td>\n",
       "      <td>Scituate, Massachusetts, US</td>\n",
       "      <td>D</td>\n",
       "      <td>NaN</td>\n",
       "      <td>1.0</td>\n",
       "    </tr>\n",
       "    <tr>\n",
       "      <th>4</th>\n",
       "      <td>5</td>\n",
       "      <td>0.0</td>\n",
       "      <td>3</td>\n",
       "      <td>Allen, Mr. William Henry</td>\n",
       "      <td>male</td>\n",
       "      <td>35.0</td>\n",
       "      <td>0</td>\n",
       "      <td>0</td>\n",
       "      <td>373450</td>\n",
       "      <td>8.0500</td>\n",
       "      <td>...</td>\n",
       "      <td>S</td>\n",
       "      <td>627.0</td>\n",
       "      <td>Allen, Mr. William Henry</td>\n",
       "      <td>35.0</td>\n",
       "      <td>Birmingham, West Midlands, England</td>\n",
       "      <td>Southampton</td>\n",
       "      <td>New York City</td>\n",
       "      <td>NaN</td>\n",
       "      <td>NaN</td>\n",
       "      <td>3.0</td>\n",
       "    </tr>\n",
       "    <tr>\n",
       "      <th>5</th>\n",
       "      <td>6</td>\n",
       "      <td>0.0</td>\n",
       "      <td>3</td>\n",
       "      <td>Moran, Mr. James</td>\n",
       "      <td>male</td>\n",
       "      <td>NaN</td>\n",
       "      <td>0</td>\n",
       "      <td>0</td>\n",
       "      <td>330877</td>\n",
       "      <td>8.4583</td>\n",
       "      <td>...</td>\n",
       "      <td>Q</td>\n",
       "      <td>785.0</td>\n",
       "      <td>Doherty, Mr. William John (aka \"James Moran\")</td>\n",
       "      <td>22.0</td>\n",
       "      <td>Cork, Ireland</td>\n",
       "      <td>Queenstown</td>\n",
       "      <td>New York City</td>\n",
       "      <td>NaN</td>\n",
       "      <td>NaN</td>\n",
       "      <td>3.0</td>\n",
       "    </tr>\n",
       "    <tr>\n",
       "      <th>6</th>\n",
       "      <td>7</td>\n",
       "      <td>0.0</td>\n",
       "      <td>1</td>\n",
       "      <td>McCarthy, Mr. Timothy J</td>\n",
       "      <td>male</td>\n",
       "      <td>54.0</td>\n",
       "      <td>0</td>\n",
       "      <td>0</td>\n",
       "      <td>17463</td>\n",
       "      <td>51.8625</td>\n",
       "      <td>...</td>\n",
       "      <td>S</td>\n",
       "      <td>200.0</td>\n",
       "      <td>McCarthy, Mr. Timothy J.</td>\n",
       "      <td>54.0</td>\n",
       "      <td>Dorchester, Massachusetts, US</td>\n",
       "      <td>Southampton</td>\n",
       "      <td>Dorchester, Massachusetts, US</td>\n",
       "      <td>NaN</td>\n",
       "      <td>175MB</td>\n",
       "      <td>1.0</td>\n",
       "    </tr>\n",
       "    <tr>\n",
       "      <th>7</th>\n",
       "      <td>8</td>\n",
       "      <td>0.0</td>\n",
       "      <td>3</td>\n",
       "      <td>Palsson, Master. Gosta Leonard</td>\n",
       "      <td>male</td>\n",
       "      <td>2.0</td>\n",
       "      <td>3</td>\n",
       "      <td>1</td>\n",
       "      <td>349909</td>\n",
       "      <td>21.0750</td>\n",
       "      <td>...</td>\n",
       "      <td>S</td>\n",
       "      <td>1108.0</td>\n",
       "      <td>Pålsson, Master Gösta Leonard</td>\n",
       "      <td>2.0</td>\n",
       "      <td>Bjuv, Skåne, Sweden</td>\n",
       "      <td>Southampton</td>\n",
       "      <td>Chicago, Illinois, US</td>\n",
       "      <td>NaN</td>\n",
       "      <td>NaN</td>\n",
       "      <td>3.0</td>\n",
       "    </tr>\n",
       "    <tr>\n",
       "      <th>8</th>\n",
       "      <td>9</td>\n",
       "      <td>1.0</td>\n",
       "      <td>3</td>\n",
       "      <td>Johnson, Mrs. Oscar W (Elisabeth Vilhelmina Berg)</td>\n",
       "      <td>female</td>\n",
       "      <td>27.0</td>\n",
       "      <td>0</td>\n",
       "      <td>2</td>\n",
       "      <td>347742</td>\n",
       "      <td>11.1333</td>\n",
       "      <td>...</td>\n",
       "      <td>S</td>\n",
       "      <td>902.0</td>\n",
       "      <td>Johnson, Mrs. Elisabeth Vilhelmina (née Berg)</td>\n",
       "      <td>26.0</td>\n",
       "      <td>St. Charles, Illinois, US</td>\n",
       "      <td>Southampton</td>\n",
       "      <td>St. Charles, Illinois, US</td>\n",
       "      <td>15</td>\n",
       "      <td>NaN</td>\n",
       "      <td>3.0</td>\n",
       "    </tr>\n",
       "    <tr>\n",
       "      <th>9</th>\n",
       "      <td>10</td>\n",
       "      <td>1.0</td>\n",
       "      <td>2</td>\n",
       "      <td>Nasser, Mrs. Nicholas (Adele Achem)</td>\n",
       "      <td>female</td>\n",
       "      <td>14.0</td>\n",
       "      <td>1</td>\n",
       "      <td>0</td>\n",
       "      <td>237736</td>\n",
       "      <td>30.0708</td>\n",
       "      <td>...</td>\n",
       "      <td>C</td>\n",
       "      <td>520.0</td>\n",
       "      <td>Nassr Allah, Mrs. Adal (née Akim)[62][77]</td>\n",
       "      <td>14.0</td>\n",
       "      <td>Zahlé, Lebanon, Ottoman Empire</td>\n",
       "      <td>Cherbourg</td>\n",
       "      <td>Cleveland, Ohio, US</td>\n",
       "      <td>?</td>\n",
       "      <td>NaN</td>\n",
       "      <td>2.0</td>\n",
       "    </tr>\n",
       "    <tr>\n",
       "      <th>10</th>\n",
       "      <td>11</td>\n",
       "      <td>1.0</td>\n",
       "      <td>3</td>\n",
       "      <td>Sandstrom, Miss. Marguerite Rut</td>\n",
       "      <td>female</td>\n",
       "      <td>4.0</td>\n",
       "      <td>1</td>\n",
       "      <td>1</td>\n",
       "      <td>PP 9549</td>\n",
       "      <td>16.7000</td>\n",
       "      <td>...</td>\n",
       "      <td>S</td>\n",
       "      <td>1193.0</td>\n",
       "      <td>Sandström, Miss Marguerite Rut</td>\n",
       "      <td>4.0</td>\n",
       "      <td>Motala, Östergötland, Sweden</td>\n",
       "      <td>Southampton</td>\n",
       "      <td>San Francisco, US</td>\n",
       "      <td>13</td>\n",
       "      <td>NaN</td>\n",
       "      <td>3.0</td>\n",
       "    </tr>\n",
       "    <tr>\n",
       "      <th>11</th>\n",
       "      <td>12</td>\n",
       "      <td>1.0</td>\n",
       "      <td>1</td>\n",
       "      <td>Bonnell, Miss. Elizabeth</td>\n",
       "      <td>female</td>\n",
       "      <td>58.0</td>\n",
       "      <td>0</td>\n",
       "      <td>0</td>\n",
       "      <td>113783</td>\n",
       "      <td>26.5500</td>\n",
       "      <td>...</td>\n",
       "      <td>S</td>\n",
       "      <td>35.0</td>\n",
       "      <td>Bonnell, Miss Elizabeth</td>\n",
       "      <td>61.0</td>\n",
       "      <td>Youngstown, Ohio, US</td>\n",
       "      <td>Southampton</td>\n",
       "      <td>Youngstown, Ohio, US</td>\n",
       "      <td>8</td>\n",
       "      <td>NaN</td>\n",
       "      <td>1.0</td>\n",
       "    </tr>\n",
       "    <tr>\n",
       "      <th>12</th>\n",
       "      <td>13</td>\n",
       "      <td>0.0</td>\n",
       "      <td>3</td>\n",
       "      <td>Saundercock, Mr. William Henry</td>\n",
       "      <td>male</td>\n",
       "      <td>20.0</td>\n",
       "      <td>0</td>\n",
       "      <td>0</td>\n",
       "      <td>A/5. 2151</td>\n",
       "      <td>8.0500</td>\n",
       "      <td>...</td>\n",
       "      <td>S</td>\n",
       "      <td>1196.0</td>\n",
       "      <td>Saundercock, Mr. William Henry</td>\n",
       "      <td>19.0</td>\n",
       "      <td>St Austell, Cornwall, England</td>\n",
       "      <td>Southampton</td>\n",
       "      <td>New York City</td>\n",
       "      <td>NaN</td>\n",
       "      <td>NaN</td>\n",
       "      <td>3.0</td>\n",
       "    </tr>\n",
       "    <tr>\n",
       "      <th>13</th>\n",
       "      <td>14</td>\n",
       "      <td>0.0</td>\n",
       "      <td>3</td>\n",
       "      <td>Andersson, Mr. Anders Johan</td>\n",
       "      <td>male</td>\n",
       "      <td>39.0</td>\n",
       "      <td>1</td>\n",
       "      <td>5</td>\n",
       "      <td>347082</td>\n",
       "      <td>31.2750</td>\n",
       "      <td>...</td>\n",
       "      <td>S</td>\n",
       "      <td>632.0</td>\n",
       "      <td>Andersson, Mr. Anders Johan</td>\n",
       "      <td>39.0</td>\n",
       "      <td>Kisa, Östergötland, Sweden</td>\n",
       "      <td>Southampton</td>\n",
       "      <td>Winnipeg, Manitoba, Canada</td>\n",
       "      <td>NaN</td>\n",
       "      <td>NaN</td>\n",
       "      <td>3.0</td>\n",
       "    </tr>\n",
       "    <tr>\n",
       "      <th>14</th>\n",
       "      <td>15</td>\n",
       "      <td>0.0</td>\n",
       "      <td>3</td>\n",
       "      <td>Vestrom, Miss. Hulda Amanda Adolfina</td>\n",
       "      <td>female</td>\n",
       "      <td>14.0</td>\n",
       "      <td>0</td>\n",
       "      <td>0</td>\n",
       "      <td>350406</td>\n",
       "      <td>7.8542</td>\n",
       "      <td>...</td>\n",
       "      <td>S</td>\n",
       "      <td>1286.0</td>\n",
       "      <td>Veström, Miss Hulda Amanda Adolfina</td>\n",
       "      <td>14.0</td>\n",
       "      <td>Salmunds, Gotland, Sweden</td>\n",
       "      <td>Southampton</td>\n",
       "      <td>Los Angeles, US</td>\n",
       "      <td>NaN</td>\n",
       "      <td>NaN</td>\n",
       "      <td>3.0</td>\n",
       "    </tr>\n",
       "    <tr>\n",
       "      <th>15</th>\n",
       "      <td>16</td>\n",
       "      <td>1.0</td>\n",
       "      <td>2</td>\n",
       "      <td>Hewlett, Mrs. (Mary D Kingcome)</td>\n",
       "      <td>female</td>\n",
       "      <td>55.0</td>\n",
       "      <td>0</td>\n",
       "      <td>0</td>\n",
       "      <td>248706</td>\n",
       "      <td>16.0000</td>\n",
       "      <td>...</td>\n",
       "      <td>S</td>\n",
       "      <td>446.0</td>\n",
       "      <td>Hewlett, Mrs. Mary Dunbar (née Kingcome)</td>\n",
       "      <td>56.0</td>\n",
       "      <td>Lucknow, British India, UK[note 3]</td>\n",
       "      <td>Southampton</td>\n",
       "      <td>Rapid City, South Dakota, US</td>\n",
       "      <td>13</td>\n",
       "      <td>NaN</td>\n",
       "      <td>2.0</td>\n",
       "    </tr>\n",
       "    <tr>\n",
       "      <th>16</th>\n",
       "      <td>17</td>\n",
       "      <td>0.0</td>\n",
       "      <td>3</td>\n",
       "      <td>Rice, Master. Eugene</td>\n",
       "      <td>male</td>\n",
       "      <td>2.0</td>\n",
       "      <td>4</td>\n",
       "      <td>1</td>\n",
       "      <td>382652</td>\n",
       "      <td>29.1250</td>\n",
       "      <td>...</td>\n",
       "      <td>Q</td>\n",
       "      <td>1151.0</td>\n",
       "      <td>Rice, Master Eugene Francis</td>\n",
       "      <td>2.0</td>\n",
       "      <td>Athlone, Westmeath, Ireland</td>\n",
       "      <td>Queenstown</td>\n",
       "      <td>Spokane, Washington, US</td>\n",
       "      <td>NaN</td>\n",
       "      <td>NaN</td>\n",
       "      <td>3.0</td>\n",
       "    </tr>\n",
       "    <tr>\n",
       "      <th>17</th>\n",
       "      <td>18</td>\n",
       "      <td>1.0</td>\n",
       "      <td>2</td>\n",
       "      <td>Williams, Mr. Charles Eugene</td>\n",
       "      <td>male</td>\n",
       "      <td>NaN</td>\n",
       "      <td>0</td>\n",
       "      <td>0</td>\n",
       "      <td>244373</td>\n",
       "      <td>13.0000</td>\n",
       "      <td>...</td>\n",
       "      <td>S</td>\n",
       "      <td>604.0</td>\n",
       "      <td>Williams, Mr. Charles Eugene</td>\n",
       "      <td>23.0</td>\n",
       "      <td>Harrow, London, England</td>\n",
       "      <td>Southampton</td>\n",
       "      <td>Chicago, Illinois, US</td>\n",
       "      <td>14</td>\n",
       "      <td>NaN</td>\n",
       "      <td>2.0</td>\n",
       "    </tr>\n",
       "    <tr>\n",
       "      <th>18</th>\n",
       "      <td>19</td>\n",
       "      <td>0.0</td>\n",
       "      <td>3</td>\n",
       "      <td>Vander Planke, Mrs. Julius (Emelia Maria Vande...</td>\n",
       "      <td>female</td>\n",
       "      <td>31.0</td>\n",
       "      <td>1</td>\n",
       "      <td>0</td>\n",
       "      <td>345763</td>\n",
       "      <td>18.0000</td>\n",
       "      <td>...</td>\n",
       "      <td>S</td>\n",
       "      <td>1280.0</td>\n",
       "      <td>Vanderplancke, Mrs. Emelie Maria (née Vandemoo...</td>\n",
       "      <td>31.0</td>\n",
       "      <td>Pittem, Belgium</td>\n",
       "      <td>Southampton</td>\n",
       "      <td>Fremont, Ohio, US</td>\n",
       "      <td>NaN</td>\n",
       "      <td>NaN</td>\n",
       "      <td>3.0</td>\n",
       "    </tr>\n",
       "    <tr>\n",
       "      <th>19</th>\n",
       "      <td>20</td>\n",
       "      <td>1.0</td>\n",
       "      <td>3</td>\n",
       "      <td>Masselmani, Mrs. Fatima</td>\n",
       "      <td>female</td>\n",
       "      <td>NaN</td>\n",
       "      <td>0</td>\n",
       "      <td>0</td>\n",
       "      <td>2649</td>\n",
       "      <td>7.2250</td>\n",
       "      <td>...</td>\n",
       "      <td>C</td>\n",
       "      <td>1053.0</td>\n",
       "      <td>Muslamani, Mrs. Fatimah</td>\n",
       "      <td>22.0</td>\n",
       "      <td>Tebnine, Lebanon</td>\n",
       "      <td>Cherbourg</td>\n",
       "      <td>Michigan City, Indiana, US</td>\n",
       "      <td>C</td>\n",
       "      <td>NaN</td>\n",
       "      <td>3.0</td>\n",
       "    </tr>\n",
       "  </tbody>\n",
       "</table>\n",
       "<p>20 rows × 21 columns</p>\n",
       "</div>"
      ],
      "text/plain": [
       "    PassengerId  Survived  Pclass  \\\n",
       "0             1       0.0       3   \n",
       "1             2       1.0       1   \n",
       "2             3       1.0       3   \n",
       "3             4       1.0       1   \n",
       "4             5       0.0       3   \n",
       "5             6       0.0       3   \n",
       "6             7       0.0       1   \n",
       "7             8       0.0       3   \n",
       "8             9       1.0       3   \n",
       "9            10       1.0       2   \n",
       "10           11       1.0       3   \n",
       "11           12       1.0       1   \n",
       "12           13       0.0       3   \n",
       "13           14       0.0       3   \n",
       "14           15       0.0       3   \n",
       "15           16       1.0       2   \n",
       "16           17       0.0       3   \n",
       "17           18       1.0       2   \n",
       "18           19       0.0       3   \n",
       "19           20       1.0       3   \n",
       "\n",
       "                                                 Name     Sex   Age  SibSp  \\\n",
       "0                             Braund, Mr. Owen Harris    male  22.0      1   \n",
       "1   Cumings, Mrs. John Bradley (Florence Briggs Th...  female  38.0      1   \n",
       "2                              Heikkinen, Miss. Laina  female  26.0      0   \n",
       "3        Futrelle, Mrs. Jacques Heath (Lily May Peel)  female  35.0      1   \n",
       "4                            Allen, Mr. William Henry    male  35.0      0   \n",
       "5                                    Moran, Mr. James    male   NaN      0   \n",
       "6                             McCarthy, Mr. Timothy J    male  54.0      0   \n",
       "7                      Palsson, Master. Gosta Leonard    male   2.0      3   \n",
       "8   Johnson, Mrs. Oscar W (Elisabeth Vilhelmina Berg)  female  27.0      0   \n",
       "9                 Nasser, Mrs. Nicholas (Adele Achem)  female  14.0      1   \n",
       "10                    Sandstrom, Miss. Marguerite Rut  female   4.0      1   \n",
       "11                           Bonnell, Miss. Elizabeth  female  58.0      0   \n",
       "12                     Saundercock, Mr. William Henry    male  20.0      0   \n",
       "13                        Andersson, Mr. Anders Johan    male  39.0      1   \n",
       "14               Vestrom, Miss. Hulda Amanda Adolfina  female  14.0      0   \n",
       "15                   Hewlett, Mrs. (Mary D Kingcome)   female  55.0      0   \n",
       "16                               Rice, Master. Eugene    male   2.0      4   \n",
       "17                       Williams, Mr. Charles Eugene    male   NaN      0   \n",
       "18  Vander Planke, Mrs. Julius (Emelia Maria Vande...  female  31.0      1   \n",
       "19                            Masselmani, Mrs. Fatima  female   NaN      0   \n",
       "\n",
       "    Parch            Ticket     Fare  ... Embarked  WikiId  \\\n",
       "0       0         A/5 21171   7.2500  ...        S   691.0   \n",
       "1       0          PC 17599  71.2833  ...        C    90.0   \n",
       "2       0  STON/O2. 3101282   7.9250  ...        S   865.0   \n",
       "3       0            113803  53.1000  ...        S   127.0   \n",
       "4       0            373450   8.0500  ...        S   627.0   \n",
       "5       0            330877   8.4583  ...        Q   785.0   \n",
       "6       0             17463  51.8625  ...        S   200.0   \n",
       "7       1            349909  21.0750  ...        S  1108.0   \n",
       "8       2            347742  11.1333  ...        S   902.0   \n",
       "9       0            237736  30.0708  ...        C   520.0   \n",
       "10      1           PP 9549  16.7000  ...        S  1193.0   \n",
       "11      0            113783  26.5500  ...        S    35.0   \n",
       "12      0         A/5. 2151   8.0500  ...        S  1196.0   \n",
       "13      5            347082  31.2750  ...        S   632.0   \n",
       "14      0            350406   7.8542  ...        S  1286.0   \n",
       "15      0            248706  16.0000  ...        S   446.0   \n",
       "16      1            382652  29.1250  ...        Q  1151.0   \n",
       "17      0            244373  13.0000  ...        S   604.0   \n",
       "18      0            345763  18.0000  ...        S  1280.0   \n",
       "19      0              2649   7.2250  ...        C  1053.0   \n",
       "\n",
       "                                            Name_wiki Age_wiki  \\\n",
       "0                             Braund, Mr. Owen Harris     22.0   \n",
       "1          Cumings, Mrs. Florence Briggs (née Thayer)     35.0   \n",
       "2                               Heikkinen, Miss Laina     26.0   \n",
       "3                  Futrelle, Mrs. Lily May (née Peel)     35.0   \n",
       "4                            Allen, Mr. William Henry     35.0   \n",
       "5       Doherty, Mr. William John (aka \"James Moran\")     22.0   \n",
       "6                            McCarthy, Mr. Timothy J.     54.0   \n",
       "7                       Pålsson, Master Gösta Leonard      2.0   \n",
       "8       Johnson, Mrs. Elisabeth Vilhelmina (née Berg)     26.0   \n",
       "9           Nassr Allah, Mrs. Adal (née Akim)[62][77]     14.0   \n",
       "10                     Sandström, Miss Marguerite Rut      4.0   \n",
       "11                            Bonnell, Miss Elizabeth     61.0   \n",
       "12                     Saundercock, Mr. William Henry     19.0   \n",
       "13                        Andersson, Mr. Anders Johan     39.0   \n",
       "14                Veström, Miss Hulda Amanda Adolfina     14.0   \n",
       "15           Hewlett, Mrs. Mary Dunbar (née Kingcome)     56.0   \n",
       "16                        Rice, Master Eugene Francis      2.0   \n",
       "17                       Williams, Mr. Charles Eugene     23.0   \n",
       "18  Vanderplancke, Mrs. Emelie Maria (née Vandemoo...     31.0   \n",
       "19                            Muslamani, Mrs. Fatimah     22.0   \n",
       "\n",
       "                              Hometown      Boarded  \\\n",
       "0           Bridgerule, Devon, England  Southampton   \n",
       "1               New York, New York, US    Cherbourg   \n",
       "2                   Jyväskylä, Finland  Southampton   \n",
       "3          Scituate, Massachusetts, US  Southampton   \n",
       "4   Birmingham, West Midlands, England  Southampton   \n",
       "5                        Cork, Ireland   Queenstown   \n",
       "6        Dorchester, Massachusetts, US  Southampton   \n",
       "7                  Bjuv, Skåne, Sweden  Southampton   \n",
       "8            St. Charles, Illinois, US  Southampton   \n",
       "9       Zahlé, Lebanon, Ottoman Empire    Cherbourg   \n",
       "10        Motala, Östergötland, Sweden  Southampton   \n",
       "11                Youngstown, Ohio, US  Southampton   \n",
       "12       St Austell, Cornwall, England  Southampton   \n",
       "13          Kisa, Östergötland, Sweden  Southampton   \n",
       "14           Salmunds, Gotland, Sweden  Southampton   \n",
       "15  Lucknow, British India, UK[note 3]  Southampton   \n",
       "16         Athlone, Westmeath, Ireland   Queenstown   \n",
       "17             Harrow, London, England  Southampton   \n",
       "18                     Pittem, Belgium  Southampton   \n",
       "19                    Tebnine, Lebanon    Cherbourg   \n",
       "\n",
       "                                Destination Lifeboat   Body Class  \n",
       "0   Qu'Appelle Valley, Saskatchewan, Canada      NaN    NaN   3.0  \n",
       "1                    New York, New York, US        4    NaN   1.0  \n",
       "2                             New York City      14?    NaN   3.0  \n",
       "3               Scituate, Massachusetts, US        D    NaN   1.0  \n",
       "4                             New York City      NaN    NaN   3.0  \n",
       "5                             New York City      NaN    NaN   3.0  \n",
       "6             Dorchester, Massachusetts, US      NaN  175MB   1.0  \n",
       "7                     Chicago, Illinois, US      NaN    NaN   3.0  \n",
       "8                 St. Charles, Illinois, US       15    NaN   3.0  \n",
       "9                       Cleveland, Ohio, US        ?    NaN   2.0  \n",
       "10                        San Francisco, US       13    NaN   3.0  \n",
       "11                     Youngstown, Ohio, US        8    NaN   1.0  \n",
       "12                            New York City      NaN    NaN   3.0  \n",
       "13               Winnipeg, Manitoba, Canada      NaN    NaN   3.0  \n",
       "14                          Los Angeles, US      NaN    NaN   3.0  \n",
       "15             Rapid City, South Dakota, US       13    NaN   2.0  \n",
       "16                  Spokane, Washington, US      NaN    NaN   3.0  \n",
       "17                    Chicago, Illinois, US       14    NaN   2.0  \n",
       "18                        Fremont, Ohio, US      NaN    NaN   3.0  \n",
       "19               Michigan City, Indiana, US        C    NaN   3.0  \n",
       "\n",
       "[20 rows x 21 columns]"
      ]
     },
     "execution_count": 2,
     "metadata": {},
     "output_type": "execute_result"
    }
   ],
   "source": [
    "file = r\"C:\\Users\\danie\\Documents\\full.csv\"\n",
    "\n",
    "titanic = pd.read_csv(file)\n",
    "titanic.head(20)"
   ]
  },
  {
   "cell_type": "markdown",
   "id": "178d84a6-4e05-450b-9641-cc0ca28941d3",
   "metadata": {},
   "source": [
    "# Data Cleaning Begins"
   ]
  },
  {
   "cell_type": "code",
   "execution_count": 4,
   "id": "7ea6de51-7501-485e-8c00-45bef3dd9c43",
   "metadata": {},
   "outputs": [
    {
     "name": "stdout",
     "output_type": "stream",
     "text": [
      "<class 'pandas.core.frame.DataFrame'>\n",
      "RangeIndex: 1309 entries, 0 to 1308\n",
      "Data columns (total 21 columns):\n",
      " #   Column       Non-Null Count  Dtype  \n",
      "---  ------       --------------  -----  \n",
      " 0   PassengerId  1309 non-null   int64  \n",
      " 1   Survived     891 non-null    float64\n",
      " 2   Pclass       1309 non-null   int64  \n",
      " 3   Name         1309 non-null   object \n",
      " 4   Sex          1309 non-null   object \n",
      " 5   Age          1046 non-null   float64\n",
      " 6   SibSp        1309 non-null   int64  \n",
      " 7   Parch        1309 non-null   int64  \n",
      " 8   Ticket       1309 non-null   object \n",
      " 9   Fare         1308 non-null   float64\n",
      " 10  Cabin        295 non-null    object \n",
      " 11  Embarked     1307 non-null   object \n",
      " 12  WikiId       1304 non-null   float64\n",
      " 13  Name_wiki    1304 non-null   object \n",
      " 14  Age_wiki     1302 non-null   float64\n",
      " 15  Hometown     1304 non-null   object \n",
      " 16  Boarded      1304 non-null   object \n",
      " 17  Destination  1304 non-null   object \n",
      " 18  Lifeboat     502 non-null    object \n",
      " 19  Body         130 non-null    object \n",
      " 20  Class        1304 non-null   float64\n",
      "dtypes: float64(6), int64(4), object(11)\n",
      "memory usage: 214.9+ KB\n"
     ]
    }
   ],
   "source": [
    "titanic.info()"
   ]
  },
  {
   "cell_type": "code",
   "execution_count": 5,
   "id": "14d6e144-2e63-42d5-88df-2f92a974d07e",
   "metadata": {},
   "outputs": [
    {
     "data": {
      "text/plain": [
       "0     NaN\n",
       "1     C85\n",
       "2     NaN\n",
       "3    C123\n",
       "4     NaN\n",
       "Name: Cabin, dtype: object"
      ]
     },
     "execution_count": 5,
     "metadata": {},
     "output_type": "execute_result"
    }
   ],
   "source": [
    " "
   ]
  },
  {
   "cell_type": "code",
   "execution_count": 6,
   "id": "20b07cbd-dfa8-4f76-8832-c271c060ffb1",
   "metadata": {},
   "outputs": [
    {
     "data": {
      "text/plain": [
       "Index(['PassengerId', 'Survived', 'Pclass', 'Name', 'Sex', 'Age', 'SibSp',\n",
       "       'Parch', 'Ticket', 'Fare', 'Cabin', 'Embarked', 'WikiId', 'Name_wiki',\n",
       "       'Age_wiki', 'Hometown', 'Boarded', 'Destination', 'Lifeboat', 'Body',\n",
       "       'Class'],\n",
       "      dtype='object')"
      ]
     },
     "execution_count": 6,
     "metadata": {},
     "output_type": "execute_result"
    }
   ],
   "source": [
    "titanic.keys()"
   ]
  },
  {
   "cell_type": "code",
   "execution_count": 7,
   "id": "a8db5759-5b10-4fce-ba8e-20e69ad1393a",
   "metadata": {},
   "outputs": [],
   "source": [
    "# Filling NaN with 2.0 to indicate unknown\n",
    "titanic['Survived'] = titanic['Survived'].fillna(2)"
   ]
  },
  {
   "cell_type": "code",
   "execution_count": 8,
   "id": "37fff6de-fb26-4702-8ae6-85cacfcb771c",
   "metadata": {},
   "outputs": [
    {
     "data": {
      "text/plain": [
       "1304    2.0\n",
       "1305    2.0\n",
       "1306    2.0\n",
       "1307    2.0\n",
       "1308    2.0\n",
       "Name: Survived, dtype: float64"
      ]
     },
     "execution_count": 8,
     "metadata": {},
     "output_type": "execute_result"
    }
   ],
   "source": [
    "titanic['Survived'].tail()"
   ]
  },
  {
   "cell_type": "markdown",
   "id": "c3cd48f9-3dd2-432f-9f95-1129235e132d",
   "metadata": {},
   "source": [
    "# Filled in and dropped columns as needed for clean dataset"
   ]
  },
  {
   "cell_type": "code",
   "execution_count": 10,
   "id": "45b3dd61-1f81-40d6-b4fc-c60a38984ac3",
   "metadata": {},
   "outputs": [],
   "source": [
    "# Fill Age NANs with average column age\n",
    "titanic['Age'] = titanic['Age'].fillna(titanic['Age'].mean())\n",
    "\n",
    "# Fill Fare NANs with median cost of all recorded passengers\n",
    "titanic['Fare'] = titanic['Fare'].fillna(titanic['Fare'].median())\n",
    "\n",
    "# Drop Cabin, Lifeboat, and Body as they are not important\n",
    "titanic = titanic.drop(['Cabin', 'Lifeboat', 'Body'], axis=1)\n",
    "\n",
    "# Fill Class NANs with average popular class\n",
    "titanic['Class'] = titanic['Class'].fillna(titanic['Class'].mean())\n",
    "\n",
    "# Fill WikiId with 999.999 for unknown\n",
    "titanic['WikiId'] = titanic['WikiId'].fillna(999.999)\n",
    "\n",
    "# Fill NANs with average age of column\n",
    "titanic['Age_wiki'] = titanic['Age_wiki'].fillna(titanic['Age_wiki'].mean())\n",
    "\n",
    "# Fill Name_wiki NANs with Unknown\n",
    "titanic['Name_wiki'] = titanic['Name_wiki'].fillna('Unknown')\n"
   ]
  },
  {
   "cell_type": "code",
   "execution_count": 11,
   "id": "76abfe85-6e1b-45a3-85cf-2596c141348c",
   "metadata": {},
   "outputs": [
    {
     "data": {
      "text/plain": [
       "S    914\n",
       "C    270\n",
       "Q    123\n",
       "Name: Embarked, dtype: int64"
      ]
     },
     "execution_count": 11,
     "metadata": {},
     "output_type": "execute_result"
    }
   ],
   "source": [
    "titanic['Embarked'].value_counts()\n"
   ]
  },
  {
   "cell_type": "code",
   "execution_count": 12,
   "id": "4cdf994b-a3db-4db4-8ba3-a4884e570849",
   "metadata": {},
   "outputs": [],
   "source": [
    "# With S being most popular Embarked fill in NANs with S\n",
    "titanic['Embarked'] = titanic['Embarked'].fillna('S')"
   ]
  },
  {
   "cell_type": "markdown",
   "id": "69a6dfa9-a3d5-47c4-a6f2-01dbaf41254d",
   "metadata": {},
   "source": [
    "# S = Southampton, C = Cherbourg, Q = Queenstown, B = Belfast"
   ]
  },
  {
   "cell_type": "code",
   "execution_count": 14,
   "id": "07f0b470-ffbe-4719-be28-814920668bea",
   "metadata": {},
   "outputs": [
    {
     "data": {
      "text/plain": [
       "Southampton    916\n",
       "Cherbourg      259\n",
       "Queenstown     119\n",
       "Belfast         10\n",
       "Name: Boarded, dtype: int64"
      ]
     },
     "execution_count": 14,
     "metadata": {},
     "output_type": "execute_result"
    }
   ],
   "source": [
    "titanic['Boarded'].value_counts()"
   ]
  },
  {
   "cell_type": "code",
   "execution_count": 15,
   "id": "4fc4a03d-56b2-4934-95ae-adc673894c9f",
   "metadata": {},
   "outputs": [],
   "source": [
    "# With Southampton being most popular Boarded fill in NANs with Southhampton\n",
    "titanic['Boarded'] = titanic['Boarded'].fillna('Southampton')"
   ]
  },
  {
   "cell_type": "code",
   "execution_count": 16,
   "id": "efb311fa-3f9a-4285-b6f9-0e430363e466",
   "metadata": {},
   "outputs": [
    {
     "data": {
      "text/plain": [
       "New York, New York, US                70\n",
       "London, England                       49\n",
       "London, England, UK                   30\n",
       "Paris, France                         23\n",
       "Montreal, Quebec, Canada              20\n",
       "                                      ..\n",
       "Avaldsnes, Stavanger, Norway           1\n",
       "Marbella, Spain                        1\n",
       "Västermo, Södermanland, Sweden         1\n",
       "Trollhättan, Västergötland, Sweden     1\n",
       "Sar'al[81], Syria                      1\n",
       "Name: Hometown, Length: 566, dtype: int64"
      ]
     },
     "execution_count": 16,
     "metadata": {},
     "output_type": "execute_result"
    }
   ],
   "source": [
    "titanic['Hometown'].value_counts()"
   ]
  },
  {
   "cell_type": "code",
   "execution_count": 17,
   "id": "96131cb2-24df-4277-beeb-f116e14a8282",
   "metadata": {},
   "outputs": [],
   "source": [
    "# With New York, US being most popular Hometown fill in NANs with New York, US\n",
    "titanic['Hometown'] = titanic['Hometown'].fillna('New York, US')"
   ]
  },
  {
   "cell_type": "code",
   "execution_count": 18,
   "id": "897e20ce-b7fc-4ead-bc50-a925f5c8390f",
   "metadata": {},
   "outputs": [
    {
     "data": {
      "text/plain": [
       "New York City                          234\n",
       "New York, New York, US                 127\n",
       "Chicago, Illinois, US                   75\n",
       "Montreal, Quebec, Canada                37\n",
       "Detroit, Michigan, US                   28\n",
       "                                      ... \n",
       "East Bridgewater, Massachusetts, US      1\n",
       "Oregon, Wisconsin, US                    1\n",
       "Rahway, New Jersey, US                   1\n",
       "Stoughton, Massachusetts                 1\n",
       "US                                       1\n",
       "Name: Destination, Length: 291, dtype: int64"
      ]
     },
     "execution_count": 18,
     "metadata": {},
     "output_type": "execute_result"
    }
   ],
   "source": [
    "titanic['Destination'].value_counts()"
   ]
  },
  {
   "cell_type": "code",
   "execution_count": 19,
   "id": "3f3e3759-76f9-4885-9fb0-3b04bac60c49",
   "metadata": {},
   "outputs": [],
   "source": [
    "# With New York City being most popular Destination fill in NANs with New York City\n",
    "titanic['Destination'] = titanic['Destination'].fillna('New York City')"
   ]
  },
  {
   "cell_type": "markdown",
   "id": "8becd155-6538-4032-934f-c83ce1861323",
   "metadata": {},
   "source": [
    "# Null values have been cleaned"
   ]
  },
  {
   "cell_type": "code",
   "execution_count": 21,
   "id": "bcbb30d3-4fb5-4933-8c13-030eec0e2606",
   "metadata": {},
   "outputs": [
    {
     "name": "stdout",
     "output_type": "stream",
     "text": [
      "<class 'pandas.core.frame.DataFrame'>\n",
      "RangeIndex: 1309 entries, 0 to 1308\n",
      "Data columns (total 18 columns):\n",
      " #   Column       Non-Null Count  Dtype  \n",
      "---  ------       --------------  -----  \n",
      " 0   PassengerId  1309 non-null   int64  \n",
      " 1   Survived     1309 non-null   float64\n",
      " 2   Pclass       1309 non-null   int64  \n",
      " 3   Name         1309 non-null   object \n",
      " 4   Sex          1309 non-null   object \n",
      " 5   Age          1309 non-null   float64\n",
      " 6   SibSp        1309 non-null   int64  \n",
      " 7   Parch        1309 non-null   int64  \n",
      " 8   Ticket       1309 non-null   object \n",
      " 9   Fare         1309 non-null   float64\n",
      " 10  Embarked     1309 non-null   object \n",
      " 11  WikiId       1309 non-null   float64\n",
      " 12  Name_wiki    1309 non-null   object \n",
      " 13  Age_wiki     1309 non-null   float64\n",
      " 14  Hometown     1309 non-null   object \n",
      " 15  Boarded      1309 non-null   object \n",
      " 16  Destination  1309 non-null   object \n",
      " 17  Class        1309 non-null   float64\n",
      "dtypes: float64(6), int64(4), object(8)\n",
      "memory usage: 184.2+ KB\n"
     ]
    }
   ],
   "source": [
    "titanic.info()"
   ]
  },
  {
   "cell_type": "code",
   "execution_count": 22,
   "id": "388a5715-b4b5-4fce-82f5-508cb2e8e982",
   "metadata": {},
   "outputs": [],
   "source": [
    "# Fill Class NANs with most popular class\n",
    "titanic['Class'] = titanic['Class'].fillna(titanic['Class'].mean())"
   ]
  },
  {
   "cell_type": "code",
   "execution_count": 23,
   "id": "83b4d5f3-e62c-4279-8410-c19490e0192b",
   "metadata": {},
   "outputs": [
    {
     "name": "stdout",
     "output_type": "stream",
     "text": [
      "<class 'pandas.core.frame.DataFrame'>\n",
      "RangeIndex: 1309 entries, 0 to 1308\n",
      "Data columns (total 18 columns):\n",
      " #   Column       Non-Null Count  Dtype  \n",
      "---  ------       --------------  -----  \n",
      " 0   PassengerId  1309 non-null   int64  \n",
      " 1   Survived     1309 non-null   float64\n",
      " 2   Pclass       1309 non-null   int64  \n",
      " 3   Name         1309 non-null   object \n",
      " 4   Sex          1309 non-null   object \n",
      " 5   Age          1309 non-null   float64\n",
      " 6   SibSp        1309 non-null   int64  \n",
      " 7   Parch        1309 non-null   int64  \n",
      " 8   Ticket       1309 non-null   object \n",
      " 9   Fare         1309 non-null   float64\n",
      " 10  Embarked     1309 non-null   object \n",
      " 11  WikiId       1309 non-null   float64\n",
      " 12  Name_wiki    1309 non-null   object \n",
      " 13  Age_wiki     1309 non-null   float64\n",
      " 14  Hometown     1309 non-null   object \n",
      " 15  Boarded      1309 non-null   object \n",
      " 16  Destination  1309 non-null   object \n",
      " 17  Class        1309 non-null   float64\n",
      "dtypes: float64(6), int64(4), object(8)\n",
      "memory usage: 184.2+ KB\n"
     ]
    }
   ],
   "source": [
    "# Data fully cleaned\n",
    "titanic.info()"
   ]
  },
  {
   "cell_type": "markdown",
   "id": "dbe99a89-2366-4e5c-b34c-b1953fcb8e43",
   "metadata": {},
   "source": [
    "# Data exploration begins!!!"
   ]
  },
  {
   "cell_type": "code",
   "execution_count": 25,
   "id": "5a9643a1-81a3-4341-a107-8a96aba58568",
   "metadata": {},
   "outputs": [
    {
     "name": "stdout",
     "output_type": "stream",
     "text": [
      "There were 1309 passengers on the ship\n",
      "Survivors: 342\n",
      "Deceased: 549\n",
      "Unknown: 418\n"
     ]
    }
   ],
   "source": [
    "# What is the total number of passengers in the dataset? How many survived and how many didn't?\n",
    "num = len(titanic['PassengerId'])\n",
    "print (f\"There were {num} passengers on the ship\")\n",
    "\n",
    "num_survivors = (titanic[\"Survived\"] == 1.0).sum()\n",
    "print(\"Survivors:\", num_survivors)\n",
    "\n",
    "deceased = (titanic[\"Survived\"] == 0).sum()\n",
    "print(\"Deceased:\", deceased)\n",
    "\n",
    "unk = (titanic[\"Survived\"] == 2).sum()\n",
    "print(\"Unknown:\", unk)\n"
   ]
  },
  {
   "cell_type": "code",
   "execution_count": 26,
   "id": "8829654f-fee8-4e20-ac0d-570f1f85b21b",
   "metadata": {},
   "outputs": [
    {
     "data": {
      "text/plain": [
       "0.0    549\n",
       "2.0    418\n",
       "1.0    342\n",
       "Name: Survived, dtype: int64"
      ]
     },
     "execution_count": 26,
     "metadata": {},
     "output_type": "execute_result"
    }
   ],
   "source": [
    "titanic[\"Survived\"].value_counts()"
   ]
  },
  {
   "cell_type": "code",
   "execution_count": 27,
   "id": "acdcea38-2ffb-43fd-b563-0eb87ee215e8",
   "metadata": {},
   "outputs": [
    {
     "data": {
      "text/plain": [
       "male      843\n",
       "female    466\n",
       "Name: Sex, dtype: int64"
      ]
     },
     "execution_count": 27,
     "metadata": {},
     "output_type": "execute_result"
    }
   ],
   "source": [
    "# What is the count of male and female passengers?\n",
    "titanic['Sex'].value_counts()"
   ]
  },
  {
   "cell_type": "code",
   "execution_count": 28,
   "id": "c5798b71-c4d2-4d3a-9858-312d0e2304c3",
   "metadata": {},
   "outputs": [
    {
     "data": {
      "text/plain": [
       "3    709\n",
       "1    323\n",
       "2    277\n",
       "Name: Pclass, dtype: int64"
      ]
     },
     "execution_count": 28,
     "metadata": {},
     "output_type": "execute_result"
    }
   ],
   "source": [
    "# How many passengers are there in each Pclass (1st, 2nd, 3rd)?\n",
    "titanic['Pclass'].value_counts()"
   ]
  },
  {
   "cell_type": "markdown",
   "id": "5e984dcf-c735-401a-b93d-2594974a2add",
   "metadata": {},
   "source": [
    "# Above we can see The Titanic had mostly 3rd class citizens aboard. "
   ]
  },
  {
   "cell_type": "markdown",
   "id": "6294b5cf-2640-4c7d-9a0a-7382d7e0f920",
   "metadata": {},
   "source": [
    "# S = Southampton, C = Cherbourg, Q= Queenstown"
   ]
  },
  {
   "cell_type": "code",
   "execution_count": 31,
   "id": "2f7fca87-1297-40ee-8bd9-f94ced3602fe",
   "metadata": {},
   "outputs": [
    {
     "data": {
      "text/plain": [
       "S    916\n",
       "C    270\n",
       "Q    123\n",
       "Name: Embarked, dtype: int64"
      ]
     },
     "execution_count": 31,
     "metadata": {},
     "output_type": "execute_result"
    }
   ],
   "source": [
    "# What are the counts for each embarkation point (Embarked)?\n",
    "titanic['Embarked'].value_counts()"
   ]
  },
  {
   "cell_type": "code",
   "execution_count": 32,
   "id": "a87f656d-9829-428a-b6e7-169ca0bafe92",
   "metadata": {},
   "outputs": [
    {
     "name": "stdout",
     "output_type": "stream",
     "text": [
      "The mininmum fare was 0.0\n",
      "The maximum fare was 512.33\n",
      "The average fare was 33.28\n"
     ]
    }
   ],
   "source": [
    "# What is the minimum, maximum, and average fare paid by passengers?\n",
    "mn = titanic['Fare'].min()\n",
    "print(f'The mininmum fare was {mn}')\n",
    "\n",
    "mx = titanic['Fare'].max()\n",
    "rmx = round(mx, 2)\n",
    "print(f'The maximum fare was {rmx}')\n",
    "\n",
    "av = titanic['Fare'].mean()\n",
    "rav = round(av, 2)\n",
    "print(f'The average fare was {rav}')"
   ]
  },
  {
   "cell_type": "code",
   "execution_count": 33,
   "id": "42112633-5ba4-47e7-8d9c-ca55d7f2876a",
   "metadata": {},
   "outputs": [
    {
     "name": "stdout",
     "output_type": "stream",
     "text": [
      "PassengerId    0\n",
      "Survived       0\n",
      "Pclass         0\n",
      "Name           0\n",
      "Sex            0\n",
      "Age            0\n",
      "SibSp          0\n",
      "Parch          0\n",
      "Ticket         0\n",
      "Fare           0\n",
      "Embarked       0\n",
      "WikiId         0\n",
      "Name_wiki      0\n",
      "Age_wiki       0\n",
      "Hometown       0\n",
      "Boarded        0\n",
      "Destination    0\n",
      "Class          0\n",
      "dtype: int64\n"
     ]
    }
   ],
   "source": [
    "# How many missing values are there for each column?\n",
    "missing_values = titanic.isnull().sum()\n",
    "print(missing_values)\n",
    "# All 0's as data was cleaned"
   ]
  },
  {
   "cell_type": "markdown",
   "id": "2a0256e8-cca4-4694-b592-762d950eabe3",
   "metadata": {},
   "source": [
    "## Intermediate Questions"
   ]
  },
  {
   "cell_type": "code",
   "execution_count": 35,
   "id": "b3e09470-85ad-41a0-a811-9e8cfdb41d59",
   "metadata": {},
   "outputs": [
    {
     "name": "stdout",
     "output_type": "stream",
     "text": [
      "Sex\n",
      "female    74.203822\n",
      "male      18.890815\n",
      "dtype: float64\n"
     ]
    }
   ],
   "source": [
    "# What percentage of male and female passengers survived?\n",
    "# Filter the dataset to include only known survival outcomes \n",
    "titanic1 = titanic[titanic['Survived'] != 2]\n",
    "\n",
    "# Calculate the percentage of survivors for each gender\n",
    "survival_percentage = titanic1[titanic1['Survived'] == 1].groupby('Sex').size() / titanic1.groupby('Sex').size() * 100\n",
    "\n",
    "# Display the result\n",
    "print(survival_percentage)"
   ]
  },
  {
   "cell_type": "code",
   "execution_count": 36,
   "id": "436f10f2-99bd-4654-9b46-079426b9dbbb",
   "metadata": {},
   "outputs": [
    {
     "name": "stdout",
     "output_type": "stream",
     "text": [
      "Pclass\n",
      "1    62.962963\n",
      "2    47.282609\n",
      "3    24.236253\n",
      "dtype: float64\n"
     ]
    }
   ],
   "source": [
    "# What percentage of passengers survived in each Pclass?\n",
    "# Exclude rows where survival status is unknown (Survived = 2)\n",
    "titanic2 = titanic[titanic['Survived'] != 2]\n",
    "\n",
    "# Calculate the percentage of survivors in each Pclass\n",
    "survival_by_pclass = titanic2[titanic2['Survived'] == 1].groupby('Pclass').size() / titanic2.groupby('Pclass').size() * 100\n",
    "\n",
    "# Display the result\n",
    "print(survival_by_pclass)"
   ]
  },
  {
   "cell_type": "code",
   "execution_count": 37,
   "id": "4a2e4e60-d0e7-4c02-b25c-341da9f666e8",
   "metadata": {},
   "outputs": [],
   "source": [
    "import warnings\n",
    "warnings.filterwarnings(\"ignore\", category=pd.errors.SettingWithCopyWarning)\n",
    "warnings.filterwarnings(\"ignore\", category=FutureWarning)\n"
   ]
  },
  {
   "cell_type": "code",
   "execution_count": 38,
   "id": "e5e52d05-fc9a-498a-b6a2-677a790c7e60",
   "metadata": {},
   "outputs": [
    {
     "name": "stdout",
     "output_type": "stream",
     "text": [
      "AgeGroup\n",
      "Child          57.352941\n",
      "Teenager       48.888889\n",
      "Young Adult    34.438306\n",
      "Adult          41.626794\n",
      "Senior         26.923077\n",
      "dtype: float64\n"
     ]
    }
   ],
   "source": [
    "# Create age bins (e.g., child, young adult, adult, senior) and calculate survival rates for each group.\n",
    "\n",
    "# Exclude rows with missing survival data (Survived = 2) or missing Age\n",
    "titanic2 = titanic[(titanic['Survived'] != 2) & (titanic['Age'].notnull())]\n",
    "\n",
    "# Define age bins and labels\n",
    "age_bins = [0, 12, 18, 35, 60, 100]  # Define age ranges\n",
    "age_labels = ['Child', 'Teenager', 'Young Adult', 'Adult', 'Senior']  # Labels for each bin\n",
    "\n",
    "# Create a new column for age group\n",
    "titanic2['AgeGroup'] = pd.cut(titanic2['Age'], bins=age_bins, labels=age_labels, right=False)\n",
    "\n",
    "# Calculate survival rates for each age group\n",
    "survival_by_age_group = titanic2[titanic2['Survived'] == 1].groupby('AgeGroup').size() / titanic2.groupby('AgeGroup').size() * 100\n",
    "\n",
    "# Display the result\n",
    "print(survival_by_age_group)"
   ]
  },
  {
   "cell_type": "markdown",
   "id": "7193c9cf-be5f-49fb-b72f-79680bf0cd31",
   "metadata": {},
   "source": [
    "## Above is percentage of survivors by age group. Just over half the children survived while most senior citizens perished :("
   ]
  },
  {
   "cell_type": "code",
   "execution_count": 40,
   "id": "623a75e9-6062-4566-9192-e67d5ee53e71",
   "metadata": {},
   "outputs": [
    {
     "data": {
      "text/plain": [
       "0.12264149742231904"
      ]
     },
     "execution_count": 40,
     "metadata": {},
     "output_type": "execute_result"
    }
   ],
   "source": [
    "# Is there a correlation between fare amount and survival probability?\n",
    "titanic['Fare'].corr(titanic['Survived'])\n",
    "# Number is  very close to 0 so no real correlation"
   ]
  },
  {
   "cell_type": "markdown",
   "id": "4c053666-08c0-44b5-817d-90678e28fc4c",
   "metadata": {},
   "source": [
    "## There is no real correlation between fare amount and survivability. If there was the number would be 1 or closer to it."
   ]
  },
  {
   "cell_type": "code",
   "execution_count": 42,
   "id": "d922238b-cc77-42c9-9d39-99ea8fad327c",
   "metadata": {},
   "outputs": [
    {
     "data": {
      "text/plain": [
       "Embarked\n",
       "C    55.357143\n",
       "Q    38.961039\n",
       "S    33.900929\n",
       "dtype: float64"
      ]
     },
     "execution_count": 42,
     "metadata": {},
     "output_type": "execute_result"
    }
   ],
   "source": [
    "# Does the embarkation point (Embarked) correlate with survival rates?\n",
    "# Filter rows with known survival status (Survived = 0 or 1) and non-null Embarked values\n",
    "titanic2 = titanic[(titanic['Survived'] != 2) & (titanic['Embarked'].notnull())]\n",
    "\n",
    "# Calculate survival rates for each embarkation point\n",
    "titanic2[titanic2['Survived'] == 1].groupby('Embarked').size() / titanic2.groupby('Embarked').size() * 100\n"
   ]
  },
  {
   "cell_type": "markdown",
   "id": "d28723d4-b0c9-43f5-8d1a-67bd59b1a5af",
   "metadata": {},
   "source": [
    "### Those who embarked from Cherbourg had the greatest survival rate with over a 50% chance. Those from Queenstown had almost a 40% chance of survival. Southampton and Belfast bring up the rear with a 30% chance of survial if you were from Southampton and unfortunately there were no survivors from Belfast."
   ]
  },
  {
   "cell_type": "code",
   "execution_count": 44,
   "id": "ba010444-8900-4f59-b09f-1d93172a030c",
   "metadata": {},
   "outputs": [
    {
     "name": "stdout",
     "output_type": "stream",
     "text": [
      "The average age of survivors is: 29 years\n"
     ]
    }
   ],
   "source": [
    "# What is the average age of survivors versus non-survivors?\n",
    "\n",
    "# Filter rows for survivors (Survived = 1) and non-null Age values\n",
    "survivors = titanic[(titanic['Survived'] == 1) & (titanic['Age'].notnull())]\n",
    "\n",
    "# Calculate the average age of survivors\n",
    "average_age_survivors = survivors['Age'].mean()\n",
    "\n",
    "# Display the result\n",
    "print(f\"The average age of survivors is: {average_age_survivors:.0f} years\")"
   ]
  },
  {
   "cell_type": "code",
   "execution_count": 45,
   "id": "3cd30f39-983b-4700-9064-799bb7a4e8d2",
   "metadata": {},
   "outputs": [
    {
     "name": "stdout",
     "output_type": "stream",
     "text": [
      "Young Adult    810\n",
      "Adult          305\n",
      "Child           91\n",
      "Teenager        63\n",
      "Senior          40\n",
      "Name: AgeGroup, dtype: int64\n"
     ]
    }
   ],
   "source": [
    "# What are the number of people per age group\n",
    "# Define age bins and labels\n",
    "age_bins = [0, 12, 18, 35, 60, 100]\n",
    "age_labels = ['Child', 'Teenager', 'Young Adult', 'Adult', 'Senior']\n",
    "\n",
    "# Create a new column for age group\n",
    "titanic['AgeGroup'] = pd.cut(titanic['Age'], bins=age_bins, labels=age_labels, right=False)\n",
    "\n",
    "# Count the number of people in each age group\n",
    "age_group_counts = titanic['AgeGroup'].value_counts()\n",
    "\n",
    "# Display the result\n",
    "print(age_group_counts)"
   ]
  },
  {
   "cell_type": "markdown",
   "id": "c327dc71-dfe5-415c-81a4-b246f33ea562",
   "metadata": {},
   "source": [
    "## Young Adults made up the largest group of individuals on the ship. Their age ranging from 18-34."
   ]
  },
  {
   "cell_type": "markdown",
   "id": "77b58119-9783-427e-b53d-24da52c15173",
   "metadata": {},
   "source": [
    "# Hard Questions"
   ]
  },
  {
   "cell_type": "code",
   "execution_count": 48,
   "id": "6902a7e8-57b8-4acd-b9f3-aef4c8af721e",
   "metadata": {},
   "outputs": [
    {
     "name": "stdout",
     "output_type": "stream",
     "text": [
      "Fare statistics by Pclass:\n",
      "   Pclass       mean       max   median  min\n",
      "0       1  87.508992  512.3292  60.0000  0.0\n",
      "1       2  21.179196   73.5000  15.0458  0.0\n",
      "2       3  13.304513   69.5500   8.0500  0.0\n",
      "\n",
      "Anomalies where lower-class passengers paid higher fares than higher-class passengers:\n"
     ]
    },
    {
     "data": {
      "text/html": [
       "<div>\n",
       "<style scoped>\n",
       "    .dataframe tbody tr th:only-of-type {\n",
       "        vertical-align: middle;\n",
       "    }\n",
       "\n",
       "    .dataframe tbody tr th {\n",
       "        vertical-align: top;\n",
       "    }\n",
       "\n",
       "    .dataframe thead th {\n",
       "        text-align: right;\n",
       "    }\n",
       "</style>\n",
       "<table border=\"1\" class=\"dataframe\">\n",
       "  <thead>\n",
       "    <tr style=\"text-align: right;\">\n",
       "      <th></th>\n",
       "      <th>PassengerId</th>\n",
       "      <th>Pclass</th>\n",
       "      <th>Fare</th>\n",
       "    </tr>\n",
       "  </thead>\n",
       "  <tbody>\n",
       "    <tr>\n",
       "      <th>0</th>\n",
       "      <td>14</td>\n",
       "      <td>3</td>\n",
       "      <td>31.2750</td>\n",
       "    </tr>\n",
       "    <tr>\n",
       "      <th>1</th>\n",
       "      <td>17</td>\n",
       "      <td>3</td>\n",
       "      <td>29.1250</td>\n",
       "    </tr>\n",
       "    <tr>\n",
       "      <th>2</th>\n",
       "      <td>26</td>\n",
       "      <td>3</td>\n",
       "      <td>31.3875</td>\n",
       "    </tr>\n",
       "    <tr>\n",
       "      <th>3</th>\n",
       "      <td>49</td>\n",
       "      <td>3</td>\n",
       "      <td>21.6792</td>\n",
       "    </tr>\n",
       "    <tr>\n",
       "      <th>4</th>\n",
       "      <td>51</td>\n",
       "      <td>3</td>\n",
       "      <td>39.6875</td>\n",
       "    </tr>\n",
       "    <tr>\n",
       "      <th>...</th>\n",
       "      <td>...</td>\n",
       "      <td>...</td>\n",
       "      <td>...</td>\n",
       "    </tr>\n",
       "    <tr>\n",
       "      <th>93</th>\n",
       "      <td>1257</td>\n",
       "      <td>3</td>\n",
       "      <td>69.5500</td>\n",
       "    </tr>\n",
       "    <tr>\n",
       "      <th>94</th>\n",
       "      <td>1259</td>\n",
       "      <td>3</td>\n",
       "      <td>39.6875</td>\n",
       "    </tr>\n",
       "    <tr>\n",
       "      <th>95</th>\n",
       "      <td>1271</td>\n",
       "      <td>3</td>\n",
       "      <td>31.3875</td>\n",
       "    </tr>\n",
       "    <tr>\n",
       "      <th>96</th>\n",
       "      <td>1286</td>\n",
       "      <td>3</td>\n",
       "      <td>22.0250</td>\n",
       "    </tr>\n",
       "    <tr>\n",
       "      <th>97</th>\n",
       "      <td>1309</td>\n",
       "      <td>3</td>\n",
       "      <td>22.3583</td>\n",
       "    </tr>\n",
       "  </tbody>\n",
       "</table>\n",
       "<p>98 rows × 3 columns</p>\n",
       "</div>"
      ],
      "text/plain": [
       "    PassengerId  Pclass     Fare\n",
       "0            14       3  31.2750\n",
       "1            17       3  29.1250\n",
       "2            26       3  31.3875\n",
       "3            49       3  21.6792\n",
       "4            51       3  39.6875\n",
       "..          ...     ...      ...\n",
       "93         1257       3  69.5500\n",
       "94         1259       3  39.6875\n",
       "95         1271       3  31.3875\n",
       "96         1286       3  22.0250\n",
       "97         1309       3  22.3583\n",
       "\n",
       "[98 rows x 3 columns]"
      ]
     },
     "execution_count": 48,
     "metadata": {},
     "output_type": "execute_result"
    }
   ],
   "source": [
    "# Are there any anomalies where passengers in lower classes paid higher fares than those in higher classes?\n",
    "\n",
    "# Calculate statistics for each Pclass\n",
    "fare_stats = titanic.groupby('Pclass')['Fare'].agg(['mean', 'max', 'median', 'min']).reset_index()\n",
    "print(f\"Fare statistics by Pclass:\\n{fare_stats}\\n\")\n",
    "\n",
    "# Find anomalies where a lower-class passenger paid more than the max fare in a higher class\n",
    "anomalies = []\n",
    "\n",
    "# Loop through Pclass levels and compare fares\n",
    "for lower_class in [2, 3]:  # Only check for lower classes\n",
    "    for higher_class in range(1, lower_class):  # Compare against higher classes\n",
    "        higher_class_avg_fare = titanic[titanic['Pclass'] == higher_class]['Fare'].mean()\n",
    "        \n",
    "        # Identify passengers in lower_class who paid more than higher_class_max_fare\n",
    "        anomaly = titanic[(titanic['Pclass'] == lower_class) & (titanic['Fare'] > higher_class_avg_fare)]\n",
    "        anomalies.append(anomaly)\n",
    "\n",
    "# Combine all anomalies into one DataFrame\n",
    "anomalies_df = pd.concat(anomalies, ignore_index=True)\n",
    "\n",
    "# Display anomalies\n",
    "print(\"Anomalies where lower-class passengers paid higher fares than higher-class passengers:\")\n",
    "anomalies_df[['PassengerId', 'Pclass', 'Fare']]"
   ]
  },
  {
   "cell_type": "code",
   "execution_count": 49,
   "id": "ae113bfc-9960-46d0-a8d1-638a08b2787b",
   "metadata": {},
   "outputs": [
    {
     "data": {
      "image/png": "[encoded data removed]",
      "text/plain": [
       "<Figure size 1300x1000 with 1 Axes>"
      ]
     },
     "metadata": {},
     "output_type": "display_data"
    }
   ],
   "source": [
    "import seaborn as sns\n",
    "import matplotlib.pyplot as plt\n",
    "\n",
    "plt.figure(figsize=(13, 10))\n",
    "sns.boxplot(x='Pclass', y='Fare', data=titanic)\n",
    "plt.title('Fare Distribution by Pclass')\n",
    "plt.show()"
   ]
  },
  {
   "cell_type": "markdown",
   "id": "bb5f8de9-4f50-4fa8-a2dd-22af20072979",
   "metadata": {},
   "source": [
    "## Above shows outliers with regards to purchasing tickets for the ship. Most of the outliers were 3rd class individuals."
   ]
  },
  {
   "cell_type": "markdown",
   "id": "f32d8005-2050-4093-8ab7-0a4f10c69318",
   "metadata": {},
   "source": [
    "## Below here is general information about the different titles and genders of individuals on the ship."
   ]
  },
  {
   "cell_type": "code",
   "execution_count": 52,
   "id": "b8f7ff99-2289-4375-978a-1ca993384bdc",
   "metadata": {},
   "outputs": [
    {
     "name": "stdout",
     "output_type": "stream",
     "text": [
      "Mr          757\n",
      "Miss        260\n",
      "Mrs         197\n",
      "Master       61\n",
      "Rev           8\n",
      "Dr            8\n",
      "Col           4\n",
      "Mlle          2\n",
      "Major         2\n",
      "Ms            2\n",
      "Lady          1\n",
      "Sir           1\n",
      "Mme           1\n",
      "Don           1\n",
      "Capt          1\n",
      "Countess      1\n",
      "Jonkheer      1\n",
      "Dona          1\n",
      "Name: Title, dtype: int64\n"
     ]
    }
   ],
   "source": [
    "# Analyze the Name column to find patterns in naming conventions for passengers of different classes or genders.\n",
    "# Extract titles from the Name column\n",
    "import re\n",
    "\n",
    "titanic['Title'] = titanic['Name'].apply(lambda x: re.findall(' ([A-Za-z]+)\\.', x)[0])\n",
    "\n",
    "# Check the distribution of titles\n",
    "title_counts = titanic['Title'].value_counts()\n",
    "print(title_counts)"
   ]
  },
  {
   "cell_type": "code",
   "execution_count": 53,
   "id": "cb306b6d-4fd6-4804-b9f9-112b749d9bc0",
   "metadata": {},
   "outputs": [
    {
     "name": "stdout",
     "output_type": "stream",
     "text": [
      "Sex       female   male\n",
      "Title                  \n",
      "Capt         NaN    1.0\n",
      "Col          NaN    4.0\n",
      "Countess     1.0    NaN\n",
      "Don          NaN    1.0\n",
      "Dona         1.0    NaN\n",
      "Dr           1.0    7.0\n",
      "Jonkheer     NaN    1.0\n",
      "Lady         1.0    NaN\n",
      "Major        NaN    2.0\n",
      "Master       NaN   61.0\n",
      "Miss       260.0    NaN\n",
      "Mlle         2.0    NaN\n",
      "Mme          1.0    NaN\n",
      "Mr           NaN  757.0\n",
      "Mrs        197.0    NaN\n",
      "Ms           2.0    NaN\n",
      "Rev          NaN    8.0\n",
      "Sir          NaN    1.0\n"
     ]
    }
   ],
   "source": [
    "# Analyze the relationship between Title and Gender\n",
    "title_gender_counts = titanic.groupby(['Title', 'Sex']).size().unstack()\n",
    "print(title_gender_counts)"
   ]
  },
  {
   "cell_type": "code",
   "execution_count": 54,
   "id": "7751726c-6e7a-426e-b369-c7502f513a71",
   "metadata": {},
   "outputs": [
    {
     "name": "stdout",
     "output_type": "stream",
     "text": [
      "Pclass        1      2      3\n",
      "Title                        \n",
      "Capt        1.0    NaN    NaN\n",
      "Col         4.0    NaN    NaN\n",
      "Countess    1.0    NaN    NaN\n",
      "Don         1.0    NaN    NaN\n",
      "Dona        1.0    NaN    NaN\n",
      "Dr          6.0    2.0    NaN\n",
      "Jonkheer    1.0    NaN    NaN\n",
      "Lady        1.0    NaN    NaN\n",
      "Major       2.0    NaN    NaN\n",
      "Master      5.0   11.0   45.0\n",
      "Miss       60.0   50.0  150.0\n",
      "Mlle        2.0    NaN    NaN\n",
      "Mme         1.0    NaN    NaN\n",
      "Mr        159.0  150.0  448.0\n",
      "Mrs        77.0   55.0   65.0\n",
      "Ms          NaN    1.0    1.0\n",
      "Rev         NaN    8.0    NaN\n",
      "Sir         1.0    NaN    NaN\n"
     ]
    }
   ],
   "source": [
    "# Analyze the relationship between Title and Pclass (Passenger Class)\n",
    "title_class_counts = titanic.groupby(['Title', 'Pclass']).size().unstack()\n",
    "print(title_class_counts)"
   ]
  },
  {
   "cell_type": "code",
   "execution_count": 55,
   "id": "0608f75b-d3c2-4dba-b872-8de669637759",
   "metadata": {},
   "outputs": [
    {
     "name": "stdout",
     "output_type": "stream",
     "text": [
      "          count       mean        std    min        25%        50%        75%  \\\n",
      "Title                                                                           \n",
      "Capt        1.0  70.000000        NaN  70.00  70.000000  70.000000  70.000000   \n",
      "Col         4.0  54.000000   5.477226  47.00  51.500000  54.500000  57.000000   \n",
      "Countess    1.0  33.000000        NaN  33.00  33.000000  33.000000  33.000000   \n",
      "Don         1.0  40.000000        NaN  40.00  40.000000  40.000000  40.000000   \n",
      "Dona        1.0  39.000000        NaN  39.00  39.000000  39.000000  39.000000   \n",
      "Dr          8.0  41.860142  11.890635  23.00  31.470284  46.500000  50.750000   \n",
      "Jonkheer    1.0  38.000000        NaN  38.00  38.000000  38.000000  38.000000   \n",
      "Lady        1.0  48.000000        NaN  48.00  48.000000  48.000000  48.000000   \n",
      "Major       2.0  48.500000   4.949747  45.00  46.750000  48.500000  50.250000   \n",
      "Master     61.0   8.682444   9.163600   0.33   2.000000   6.000000  11.000000   \n",
      "Miss      260.0  23.333257  11.459596   0.17  17.000000  24.000000  29.881138   \n",
      "Mlle        2.0  24.000000   0.000000  24.00  24.000000  24.000000  24.000000   \n",
      "Mme         1.0  24.000000        NaN  24.00  24.000000  24.000000  24.000000   \n",
      "Mr        757.0  31.700899  10.926534  11.00  25.000000  29.881138  35.000000   \n",
      "Mrs       197.0  36.019242  12.228651  14.00  28.000000  33.000000  45.000000   \n",
      "Ms          2.0  28.940569   1.330165  28.00  28.470284  28.940569  29.410853   \n",
      "Rev         8.0  41.250000  12.020815  27.00  29.500000  41.500000  51.750000   \n",
      "Sir         1.0  49.000000        NaN  49.00  49.000000  49.000000  49.000000   \n",
      "\n",
      "                max  \n",
      "Title                \n",
      "Capt      70.000000  \n",
      "Col       60.000000  \n",
      "Countess  33.000000  \n",
      "Don       40.000000  \n",
      "Dona      39.000000  \n",
      "Dr        54.000000  \n",
      "Jonkheer  38.000000  \n",
      "Lady      48.000000  \n",
      "Major     52.000000  \n",
      "Master    29.881138  \n",
      "Miss      63.000000  \n",
      "Mlle      24.000000  \n",
      "Mme       24.000000  \n",
      "Mr        80.000000  \n",
      "Mrs       76.000000  \n",
      "Ms        29.881138  \n",
      "Rev       57.000000  \n",
      "Sir       49.000000  \n"
     ]
    }
   ],
   "source": [
    "# Analyze how Title correlates with Age\n",
    "title_age_analysis = titanic.groupby('Title')['Age'].describe()\n",
    "print(title_age_analysis)"
   ]
  },
  {
   "cell_type": "code",
   "execution_count": 56,
   "id": "06ba711b-6909-4994-8637-da5b28e24d05",
   "metadata": {},
   "outputs": [
    {
     "name": "stdout",
     "output_type": "stream",
     "text": [
      "Title     Pclass  Sex   \n",
      "Capt      1       male      70.000000\n",
      "Col       1       male      54.000000\n",
      "Countess  1       female    33.000000\n",
      "Don       1       male      40.000000\n",
      "Dona      1       female    39.000000\n",
      "Dr        1       female    49.000000\n",
      "                  male      41.776228\n",
      "          2       male      38.500000\n",
      "Jonkheer  1       male      38.000000\n",
      "Lady      1       female    48.000000\n",
      "Major     1       male      48.500000\n",
      "Master    1       male       6.984000\n",
      "          2       male       2.757273\n",
      "          3       male      10.319536\n",
      "Miss      1       female    30.331352\n",
      "          2       female    21.083646\n",
      "          3       female    21.283890\n",
      "Mlle      1       female    24.000000\n",
      "Mme       1       female    24.000000\n",
      "Mr        1       male      39.486105\n",
      "          2       male      32.133032\n",
      "          3       male      28.793158\n",
      "Mrs       1       female    41.478070\n",
      "          2       female    33.452384\n",
      "          3       female    31.724588\n",
      "Ms        2       female    28.000000\n",
      "          3       female    29.881138\n",
      "Rev       2       male      41.250000\n",
      "Sir       1       male      49.000000\n",
      "Name: Age, dtype: float64\n"
     ]
    }
   ],
   "source": [
    "# Analyze the relationship between Title, Pclass, Sex, and Age\n",
    "title_class_gender_age = titanic.groupby(['Title', 'Pclass', 'Sex'])['Age'].mean()\n",
    "print(title_class_gender_age)"
   ]
  },
  {
   "cell_type": "code",
   "execution_count": 57,
   "id": "68960836-7aba-4870-9ea8-148f34746e3a",
   "metadata": {},
   "outputs": [
    {
     "data": {
      "text/plain": [
       "Index(['PassengerId', 'Survived', 'Pclass', 'Name', 'Sex', 'Age', 'SibSp',\n",
       "       'Parch', 'Ticket', 'Fare', 'Embarked', 'WikiId', 'Name_wiki',\n",
       "       'Age_wiki', 'Hometown', 'Boarded', 'Destination', 'Class', 'AgeGroup',\n",
       "       'Title'],\n",
       "      dtype='object')"
      ]
     },
     "execution_count": 57,
     "metadata": {},
     "output_type": "execute_result"
    }
   ],
   "source": [
    "titanic.keys()"
   ]
  },
  {
   "cell_type": "code",
   "execution_count": null,
   "id": "fe9c93a8-e35e-4fd7-bec2-e549a80beaa6",
   "metadata": {},
   "outputs": [],
   "source": []
  }
 ],
 "metadata": {
  "kernelspec": {
   "display_name": "Python 3 (ipykernel)",
   "language": "python",
   "name": "python3"
  },
  "language_info": {
   "codemirror_mode": {
    "name": "ipython",
    "version": 3
   },
   "file_extension": ".py",
   "mimetype": "text/x-python",
   "name": "python",
   "nbconvert_exporter": "python",
   "pygments_lexer": "ipython3",
   "version": "3.11.7"
  }
 },
 "nbformat": 4,
 "nbformat_minor": 5
}
